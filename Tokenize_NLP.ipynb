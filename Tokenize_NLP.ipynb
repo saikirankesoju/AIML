{
  "nbformat": 4,
  "nbformat_minor": 0,
  "metadata": {
    "colab": {
      "provenance": [],
      "authorship_tag": "ABX9TyMa+L+dRO0IpFS68/r/hY95",
      "include_colab_link": true
    },
    "kernelspec": {
      "name": "python3",
      "display_name": "Python 3"
    },
    "language_info": {
      "name": "python"
    }
  },
  "cells": [
    {
      "cell_type": "markdown",
      "metadata": {
        "id": "view-in-github",
        "colab_type": "text"
      },
      "source": [
        "<a href=\"https://colab.research.google.com/github/saikirankesoju/AIML/blob/main/Tokenize_NLP.ipynb\" target=\"_parent\"><img src=\"https://colab.research.google.com/assets/colab-badge.svg\" alt=\"Open In Colab\"/></a>"
      ]
    },
    {
      "cell_type": "code",
      "execution_count": 3,
      "metadata": {
        "colab": {
          "base_uri": "https://localhost:8080/"
        },
        "id": "djSo5Cil1wvE",
        "outputId": "795242c7-9ee4-473e-e6e6-47719ac105ab"
      },
      "outputs": [
        {
          "output_type": "stream",
          "name": "stdout",
          "text": [
            "Tokens: ['The', 'lion', 'roars', 'loudly', 'in', 'the', 'forest', 'at', 'night', 'always', '.']\n"
          ]
        },
        {
          "output_type": "stream",
          "name": "stderr",
          "text": [
            "[nltk_data] Downloading package punkt_tab to /root/nltk_data...\n",
            "[nltk_data]   Package punkt_tab is already up-to-date!\n"
          ]
        }
      ],
      "source": [
        "import nltk\n",
        "nltk.download('punkt_tab')\n",
        "from nltk.tokenize import word_tokenize\n",
        "\n",
        "sentence = \"The lion roars loudly in the forest at night always.\"\n",
        "\n",
        "tokens = word_tokenize(sentence)\n",
        "print(\"Tokens:\",tokens)"
      ]
    },
    {
      "cell_type": "code",
      "source": [
        "import nltk\n",
        "nltk.download('punkt')\n",
        "from nltk.tokenize import word_tokenize\n",
        "from nltk.corpus import stopwords\n",
        "nltk.download('stopwords')\n",
        "\n",
        "sentence = \"The lion roars loudly in the forest at night always.\"\n",
        "\n",
        "tokens = word_tokenize(sentence)\n",
        "\n",
        "print(\"Tokens:\", tokens)\n",
        "stop_words = set(stopwords.words('english'))\n",
        "\n",
        "filtered_tokens = [word for word in tokens if word.lower() not in stop_words]\n",
        "\n",
        "print(\"Filtered Tokens:\", filtered_tokens)"
      ],
      "metadata": {
        "colab": {
          "base_uri": "https://localhost:8080/"
        },
        "id": "pAwuHxql3f2a",
        "outputId": "3b47d9d8-9d10-4a4d-fe27-7fd2127a1232"
      },
      "execution_count": 4,
      "outputs": [
        {
          "output_type": "stream",
          "name": "stderr",
          "text": [
            "[nltk_data] Downloading package punkt to /root/nltk_data...\n",
            "[nltk_data]   Unzipping tokenizers/punkt.zip.\n"
          ]
        },
        {
          "output_type": "stream",
          "name": "stdout",
          "text": [
            "Tokens: ['The', 'lion', 'roars', 'loudly', 'in', 'the', 'forest', 'at', 'night', 'always', '.']\n",
            "Filtered Tokens: ['lion', 'roars', 'loudly', 'forest', 'night', 'always', '.']\n"
          ]
        },
        {
          "output_type": "stream",
          "name": "stderr",
          "text": [
            "[nltk_data] Downloading package stopwords to /root/nltk_data...\n",
            "[nltk_data]   Unzipping corpora/stopwords.zip.\n"
          ]
        }
      ]
    },
    {
      "cell_type": "code",
      "source": [
        "import nltk\n",
        "from nltk.tokenize import word_tokenize\n",
        "from nltk.stem import PorterStemmer\n",
        "nltk.download('wordnet')\n",
        "sentence = \"The lion roars loudly in the forest at night always.\"\n",
        "\n",
        "tokens = word_tokenize(sentence)\n",
        "\n",
        "print(tokens)\n",
        "stemmer = PorterStemmer()\n",
        "stemmer_tokens = [stemmer.stem(word) for word in tokens]\n",
        "print(stemmer_tokens)"
      ],
      "metadata": {
        "colab": {
          "base_uri": "https://localhost:8080/"
        },
        "id": "YTMb2MBo6EwO",
        "outputId": "47e1f43b-de42-430f-c627-750825189176"
      },
      "execution_count": 5,
      "outputs": [
        {
          "output_type": "stream",
          "name": "stderr",
          "text": [
            "[nltk_data] Downloading package wordnet to /root/nltk_data...\n"
          ]
        },
        {
          "output_type": "stream",
          "name": "stdout",
          "text": [
            "['The', 'lion', 'roars', 'loudly', 'in', 'the', 'forest', 'at', 'night', 'always', '.']\n",
            "['the', 'lion', 'roar', 'loudli', 'in', 'the', 'forest', 'at', 'night', 'alway', '.']\n"
          ]
        }
      ]
    },
    {
      "cell_type": "code",
      "source": [
        "import nltk\n",
        "from nltk.tokenize import word_tokenize\n",
        "from nltk.stem import WordNetLemmatizer\n",
        "nltk.download('wordnet')\n",
        "sentence = \"The lion roars loudly in the forest at night always.\"\n",
        "\n",
        "tokens = word_tokenize(sentence)\n",
        "\n",
        "print(\"Token is :\",tokens)\n",
        "lemmatizer = WordNetLemmatizer()\n",
        "lemmatizer_tokens = [lemmatizer.lemmatize(word) for word in tokens]\n",
        "print(\"Lemmaword is:\",lemmatizer_tokens)"
      ],
      "metadata": {
        "colab": {
          "base_uri": "https://localhost:8080/"
        },
        "id": "mFdnkfWO8P5Y",
        "outputId": "6481a0a9-6af9-4d83-83b5-c5c0f5408506"
      },
      "execution_count": 9,
      "outputs": [
        {
          "output_type": "stream",
          "name": "stdout",
          "text": [
            "Token is : ['The', 'lion', 'roars', 'loudly', 'in', 'the', 'forest', 'at', 'night', 'always', '.']\n",
            "Lemmaword is: ['The', 'lion', 'roar', 'loudly', 'in', 'the', 'forest', 'at', 'night', 'always', '.']\n"
          ]
        },
        {
          "output_type": "stream",
          "name": "stderr",
          "text": [
            "[nltk_data] Downloading package wordnet to /root/nltk_data...\n",
            "[nltk_data]   Package wordnet is already up-to-date!\n"
          ]
        }
      ]
    },
    {
      "cell_type": "code",
      "source": [],
      "metadata": {
        "id": "e6VoyYPH_FE2"
      },
      "execution_count": null,
      "outputs": []
    }
  ]
}