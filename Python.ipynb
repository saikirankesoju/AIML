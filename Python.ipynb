{
  "nbformat": 4,
  "nbformat_minor": 0,
  "metadata": {
    "colab": {
      "provenance": [],
      "authorship_tag": "ABX9TyOoyR2JvclSA0M9AhQAFmCl",
      "include_colab_link": true
    },
    "kernelspec": {
      "name": "python3",
      "display_name": "Python 3"
    },
    "language_info": {
      "name": "python"
    }
  },
  "cells": [
    {
      "cell_type": "markdown",
      "metadata": {
        "id": "view-in-github",
        "colab_type": "text"
      },
      "source": [
        "<a href=\"https://colab.research.google.com/github/saikirankesoju/AIML/blob/main/Python.ipynb\" target=\"_parent\"><img src=\"https://colab.research.google.com/assets/colab-badge.svg\" alt=\"Open In Colab\"/></a>"
      ]
    },
    {
      "cell_type": "markdown",
      "source": [
        "write a program to print a name?"
      ],
      "metadata": {
        "id": "psOrUlYmRrDs"
      }
    },
    {
      "cell_type": "code",
      "source": [
        "a=5\n",
        "b=6\n",
        "print(a+b)"
      ],
      "metadata": {
        "colab": {
          "base_uri": "https://localhost:8080/"
        },
        "id": "Q1Rg9w0XRutj",
        "outputId": "f2c7b160-3ba6-4055-ecb4-2e9534293f4d"
      },
      "execution_count": null,
      "outputs": [
        {
          "output_type": "stream",
          "name": "stdout",
          "text": [
            "11\n"
          ]
        }
      ]
    },
    {
      "cell_type": "markdown",
      "source": [
        "saikiran"
      ],
      "metadata": {
        "id": "RQUbFzGFU7iu"
      }
    },
    {
      "cell_type": "code",
      "source": [
        "a=input(\"enter a number\")\n",
        "b=input(\"enter a number\")\n",
        "c=a+b\n",
        "print(c)"
      ],
      "metadata": {
        "colab": {
          "base_uri": "https://localhost:8080/"
        },
        "id": "h7ZwYUt2U_TS",
        "outputId": "ec6cf598-c5f1-41c3-ce8e-3300e41ee36b"
      },
      "execution_count": null,
      "outputs": [
        {
          "output_type": "stream",
          "name": "stdout",
          "text": [
            "enter a number3\n",
            "enter a number3\n",
            "33\n"
          ]
        }
      ]
    },
    {
      "cell_type": "markdown",
      "source": [
        "**bold text*"
      ],
      "metadata": {
        "id": "0P-66uVqR-Q1"
      }
    },
    {
      "cell_type": "markdown",
      "source": [
        "saikiran"
      ],
      "metadata": {
        "id": "t84-4JyirxZj"
      }
    },
    {
      "cell_type": "code",
      "source": [
        "from typing_extensions import Order\n",
        "b=int(input(\"total number plates of the biryani\"))\n",
        "c=int(input(\"total number plates of the dosa\"))\n",
        "d=int(input(\"total number plates of the chapathi\"))\n",
        "e=print(\"total price of the orders\")\n"
      ],
      "metadata": {
        "id": "GejVk7WRr18Y"
      },
      "execution_count": null,
      "outputs": []
    },
    {
      "cell_type": "markdown",
      "source": [
        "15-09-2023"
      ],
      "metadata": {
        "id": "rlSCwnoOSfvv"
      }
    },
    {
      "cell_type": "code",
      "source": [
        "a=int(input(\"enter a number\"))\n",
        "if(a>=0)\n",
        "  print(\"positive number\")\n",
        "if(a/2==0)\n",
        "print(\"even number\")\n",
        "else:\n",
        "  print(\"odd number\")\n",
        "else:\n",
        "  print(\"negative number\")\n",
        "  if(a/2==0)\n",
        "  print(\"even\")\n",
        "else:\n",
        "  print(\"odd\")"
      ],
      "metadata": {
        "colab": {
          "base_uri": "https://localhost:8080/",
          "height": 140
        },
        "id": "dCzkCOIbSmZC",
        "outputId": "f8be644f-90af-44d0-a610-2ac6d19b8460"
      },
      "execution_count": null,
      "outputs": [
        {
          "output_type": "error",
          "ename": "SyntaxError",
          "evalue": "ignored",
          "traceback": [
            "\u001b[0;36m  File \u001b[0;32m\"<ipython-input-7-5d77142c8be8>\"\u001b[0;36m, line \u001b[0;32m2\u001b[0m\n\u001b[0;31m    if(a>=0)\u001b[0m\n\u001b[0m            ^\u001b[0m\n\u001b[0;31mSyntaxError\u001b[0m\u001b[0;31m:\u001b[0m expected ':'\n"
          ]
        }
      ]
    },
    {
      "cell_type": "markdown",
      "source": [
        "15-09-2023;read only three integer number"
      ],
      "metadata": {
        "id": "141jZP7waPii"
      }
    },
    {
      "cell_type": "code",
      "source": [
        "a=int(input(\"enter a number\"))\n",
        "b=int(input(\"enter a number\"))\n",
        "c=int(input(\"enter a number\"))\n",
        "if(a>b):\n",
        "  if(a>c):\n",
        "     print(\"first number is bigger number\")\n",
        "  else:\n",
        "    print(\"third number is bigger number\")\n",
        "else:\n",
        "   if(b>c):\n",
        "    print(\"second number is bigger number\")\n",
        "   else:\n",
        "    print(\"third number is bigger number\")"
      ],
      "metadata": {
        "colab": {
          "base_uri": "https://localhost:8080/"
        },
        "id": "BGR4VWtdaa4Y",
        "outputId": "c2a43366-f70c-4078-d98b-669c554834a3"
      },
      "execution_count": null,
      "outputs": [
        {
          "output_type": "stream",
          "name": "stdout",
          "text": [
            "enter a number10\n",
            "enter a number20\n",
            "enter a number30\n",
            "third number is bigger number\n"
          ]
        }
      ]
    },
    {
      "cell_type": "markdown",
      "source": [
        "15-09-2023"
      ],
      "metadata": {
        "id": "qoFxcKhNeNYh"
      }
    },
    {
      "cell_type": "code",
      "source": [
        "a=int(input(\"enter a number\"))\n",
        "b=int(input(\"enter anumber\"))\n",
        "c=int(input(\"enter anumber\"))\n",
        "if(a>b):\n",
        " if(a>c):\n",
        "  print(a)\n",
        "else:\n",
        "  print(c)\n",
        "else:\n",
        " if(b>c)\n",
        " print(b)\n",
        "else:\n",
        "  print(c)\n"
      ],
      "metadata": {
        "colab": {
          "base_uri": "https://localhost:8080/",
          "height": 140
        },
        "id": "SB1PZ3H8eQmL",
        "outputId": "54393b26-c3a9-42b5-b88b-027d179bce13"
      },
      "execution_count": null,
      "outputs": [
        {
          "output_type": "error",
          "ename": "SyntaxError",
          "evalue": "ignored",
          "traceback": [
            "\u001b[0;36m  File \u001b[0;32m\"<ipython-input-2-580f228078b5>\"\u001b[0;36m, line \u001b[0;32m9\u001b[0m\n\u001b[0;31m    else:\u001b[0m\n\u001b[0m    ^\u001b[0m\n\u001b[0;31mSyntaxError\u001b[0m\u001b[0;31m:\u001b[0m invalid syntax\n"
          ]
        }
      ]
    },
    {
      "cell_type": "code",
      "source": [],
      "metadata": {
        "id": "Q0fpMrLcC-tX"
      },
      "execution_count": null,
      "outputs": []
    },
    {
      "cell_type": "code",
      "source": [],
      "metadata": {
        "id": "pIDKHjNReMSq"
      },
      "execution_count": null,
      "outputs": []
    },
    {
      "cell_type": "markdown",
      "source": [
        "15-09-2023:four numbers"
      ],
      "metadata": {
        "id": "yx4J6L2Vhpq9"
      }
    },
    {
      "cell_type": "markdown",
      "source": [],
      "metadata": {
        "id": "ifGi-zD3h25k"
      }
    },
    {
      "cell_type": "code",
      "source": [
        "a=int(input(\"enter a number\"))\n",
        "b=int(input(\"enter a number\"))\n",
        "c=int(input(\"enter a number\"))\n",
        "d=int(input(\"enter a number\"))\n",
        "if(a>b and a>c and a>d):\n",
        "  print(a)\n",
        "elif(b>c and b>d):\n",
        "    print(b)\n",
        "elif(c>d):\n",
        "      print(c)\n",
        "else:\n",
        "     print(d)\n"
      ],
      "metadata": {
        "colab": {
          "base_uri": "https://localhost:8080/"
        },
        "id": "oYbQZqnqhtHt",
        "outputId": "2d664061-8b24-4101-f613-08293e412497"
      },
      "execution_count": null,
      "outputs": [
        {
          "output_type": "stream",
          "name": "stdout",
          "text": [
            "enter a number3\n",
            "enter a number4\n",
            "enter a number7\n",
            "enter a number8\n",
            "8\n"
          ]
        }
      ]
    },
    {
      "cell_type": "markdown",
      "source": [
        "15-09-2023:temperature checking"
      ],
      "metadata": {
        "id": "PlW0-5FQkAkP"
      }
    },
    {
      "cell_type": "code",
      "source": [
        "a=float(input(\"temperature\"))\n",
        "if(a>25):\n",
        "  print(\"indoor\")\n",
        "else:\n",
        "  print(\"outdoor\")"
      ],
      "metadata": {
        "colab": {
          "base_uri": "https://localhost:8080/"
        },
        "id": "YFtgAMiLkOtW",
        "outputId": "f91eae1e-1715-463a-df95-1014fde8119a"
      },
      "execution_count": null,
      "outputs": [
        {
          "output_type": "stream",
          "name": "stdout",
          "text": [
            "temperature25.6\n",
            "indoor\n"
          ]
        }
      ]
    },
    {
      "cell_type": "markdown",
      "source": [
        "15-09-2023:grade classification\n",
        "90-100:A\n",
        "80-89:B\n",
        "70-79:C\n",
        "60-69:D\n",
        "BELOW 60:F"
      ],
      "metadata": {
        "id": "N5B8R1IslsU9"
      }
    },
    {
      "cell_type": "code",
      "source": [
        "a=int(input(\"enter a marks\"))\n",
        "if(a>=90 & a<100):\n",
        "  print(\"grade A\")\n",
        "elif(ifa>=80 & 89):\n",
        "    print(\"grade B\")\n",
        "elif(ifa>=70 & 79):\n",
        "  print(\"grade C\")\n",
        "elif(ifa>=60 & a<69):\n",
        "    print(\"grade d\")\n",
        "else:\n",
        "  print(\"fail\")\n",
        "\n",
        "\n"
      ],
      "metadata": {
        "colab": {
          "base_uri": "https://localhost:8080/"
        },
        "id": "o5QtStVMl0P7",
        "outputId": "e8ae8de7-63cf-43e6-c253-6fb1c83e00fd"
      },
      "execution_count": null,
      "outputs": [
        {
          "output_type": "stream",
          "name": "stdout",
          "text": [
            "enter a marks66\n",
            "grade A\n"
          ]
        }
      ]
    },
    {
      "cell_type": "markdown",
      "source": [
        "15-09-2023"
      ],
      "metadata": {
        "id": "OpuVL7ldrpzQ"
      }
    },
    {
      "cell_type": "code",
      "source": [],
      "metadata": {
        "id": "j7tscOzhrtKG"
      },
      "execution_count": null,
      "outputs": []
    },
    {
      "cell_type": "markdown",
      "source": [],
      "metadata": {
        "id": "A3Xz_A_Pq7ih"
      }
    },
    {
      "cell_type": "code",
      "source": [
        "a=int(input(\"enter a value\"))\n",
        "b=int(input(\"enter a value\"))\n",
        "c=int(input(\"enter a value\"))\n"
      ],
      "metadata": {
        "id": "d0sbO5n5n9vi"
      },
      "execution_count": null,
      "outputs": []
    },
    {
      "cell_type": "code",
      "source": [
        "17-09-2023"
      ],
      "metadata": {
        "id": "cs9bwXoIsjk-"
      },
      "execution_count": null,
      "outputs": []
    },
    {
      "cell_type": "markdown",
      "source": [
        "19-09-2023"
      ],
      "metadata": {
        "id": "OCnCMTJzVhxp"
      }
    },
    {
      "cell_type": "code",
      "source": [
        "a=int(input(\"enter the price\"))\n",
        "if(a<=500):\n",
        "  p=a+a*5/100\n",
        "  print(\"final price is:\",p)\n",
        "elif(a>500 and a<=1000):\n",
        "    p=a+a*10/100\n",
        "    print(\"final price is\",p)\n",
        "elif(a>1000 and a<=5000):\n",
        "      p=a+a*20/100\n",
        "      print(\"final price is\",p)\n",
        "else:\n",
        "        p=a+a*30/100\n",
        "        print(\"final price is\",p)"
      ],
      "metadata": {
        "colab": {
          "base_uri": "https://localhost:8080/"
        },
        "id": "Hzu7VwzdVm6n",
        "outputId": "5d1dc176-5e28-4f5a-b793-c8698dd95d24"
      },
      "execution_count": null,
      "outputs": [
        {
          "output_type": "stream",
          "name": "stdout",
          "text": [
            "enter the price250\n",
            "final price is: 262.5\n"
          ]
        }
      ]
    },
    {
      "cell_type": "markdown",
      "source": [
        "19-09-2023"
      ],
      "metadata": {
        "id": "J19qHSUkZH68"
      }
    },
    {
      "cell_type": "code",
      "source": [
        "a=int(input(\"enter the balance\"))\n",
        "b=int(input(\"enter a age\"))\n",
        "if(a>5000 and b>=60):\n",
        "  p=a+a*2/100\n",
        "  print(\"final balance\",p)\n",
        "elif(a<=5000 and b==40):\n",
        "  p=a+a*1/100\n",
        "  print(\"final balance\",p)\n",
        "elif(a>=5000 and b==25):\n",
        "  p=a+a*0.5/100\n",
        "  print(\"final balance\",p)\n",
        "else:\n",
        "  print(\"the balance remains same\",p)\n"
      ],
      "metadata": {
        "colab": {
          "base_uri": "https://localhost:8080/"
        },
        "id": "NBe_k2BbZawA",
        "outputId": "9a8f34ca-c358-4b74-a1ae-9c52faf7e0ff"
      },
      "execution_count": null,
      "outputs": [
        {
          "output_type": "stream",
          "name": "stdout",
          "text": [
            "enter the balance9000\n",
            "enter a age90\n",
            "final balance 9180.0\n"
          ]
        }
      ]
    },
    {
      "cell_type": "markdown",
      "source": [
        "19-09-2023"
      ],
      "metadata": {
        "id": "tYHQO9EogPIr"
      }
    },
    {
      "cell_type": "markdown",
      "source": [
        "\n",
        "\n",
        "```\n",
        "# This is formatted as code\n",
        "```\n",
        "\n"
      ],
      "metadata": {
        "id": "QEAUO6R9skPa"
      }
    },
    {
      "cell_type": "code",
      "source": [],
      "metadata": {
        "id": "fo6mD5Wpr_Pk"
      },
      "execution_count": null,
      "outputs": []
    },
    {
      "cell_type": "markdown",
      "source": [
        "19-09-2023,:write a python progress based on the following criteria:in a family there are three kids each with different ages (age1!=age2!=age3),their father wants to offer them a gift based on the following criteria 1:if sums of all the ages is less than 20years and even,then they will be offerd a 1000/ worth gift otherwise only 200/ worth gift.criteria 2:if the sum of all the ages is above 20yeras and odd.then they will be offered 5000/worth gifts otherwise only 200/worth gifts.if the ages of 2/3 kids are the same.then the program should be terminated."
      ],
      "metadata": {
        "id": "wGoMjB8HsMYn"
      }
    },
    {
      "cell_type": "code",
      "source": [
        "a=int(input(\"age of kid 1\"))\n",
        "b=int(input(\"age of kid 2\"))\n",
        "c=int(input(\"age of kid 3\"))\n",
        "\n",
        "if(a==b or b==c or c==a or a==b==c):\n",
        "    print(\"terminated\")\n",
        "else:\n",
        "    if((a+b+c)<20):\n",
        "        if((a+b+c)%2==0):\n",
        "            print(\"gift worth 1000\")\n",
        "        else:\n",
        "            print(\"gift worth 200\")\n",
        "    else:\n",
        "         if((a+b+c)%2==1):\n",
        "             print(\"gift worth 5000\")\n",
        "         else:\n",
        "             print(\"gift worth 200\")"
      ],
      "metadata": {
        "colab": {
          "base_uri": "https://localhost:8080/"
        },
        "id": "ll6hSd1psO3d",
        "outputId": "bdabd557-0135-4e02-ab26-09c9a6d53ab5"
      },
      "execution_count": null,
      "outputs": [
        {
          "output_type": "stream",
          "name": "stdout",
          "text": [
            "age of kid 13\n",
            "age of kid 24\n",
            "age of kid 35\n",
            "gift worth 1000\n"
          ]
        }
      ]
    },
    {
      "cell_type": "markdown",
      "source": [],
      "metadata": {
        "id": "oW2zM1LzsDpp"
      }
    },
    {
      "cell_type": "markdown",
      "source": [
        "22-09-2023: write a program in python to calculate and print the electricity bill of a given customer .the customer id..,name and unit consumed by the user should be taken from the keyboard and display the total amount to pay to tne customer.\n",
        "the charges as per follow chart:\n",
        "unit charge units up to 199@1.20\n",
        "200 and above but less than 400@1.50\n",
        "400 and above but lessthan 600@ 1.80\n",
        "600 and above @2.00\n",
        "if bill exceeds rs.400 then a surcharges of 15% will be charged and the minimum bill should be of rs.100%"
      ],
      "metadata": {
        "id": "GjGF75pYWK4K"
      }
    },
    {
      "cell_type": "code",
      "source": [
        "a=input(\"enter the customer name\")\n",
        "b=int(input(\"enter the customer id\"))\n",
        "c=int(input(\"enter the units\"))\n",
        "#d=int(input(\"calculate the total bill\"))\n",
        "if(c<=199):\n",
        "    d=1.2*c\n",
        "elif(c>200 and c<400):\n",
        "    d=1.5*c\n",
        "else:\n",
        "    d=2*c\n",
        "if(d>=400):\n",
        "    d=d+d*15/100\n",
        "    print(d)\n",
        "elif(d<400 and d>100):\n",
        "    print(d)\n",
        "if(d<100):\n",
        "    print(100)\n",
        "\n",
        "\n",
        "\n"
      ],
      "metadata": {
        "id": "_o_abw-cWN7u",
        "colab": {
          "base_uri": "https://localhost:8080/"
        },
        "outputId": "18584913-1ed6-4203-8490-ffe29f95c00c"
      },
      "execution_count": null,
      "outputs": [
        {
          "output_type": "stream",
          "name": "stdout",
          "text": [
            "enter the customer namesai\n",
            "enter the customer id67589\n",
            "enter the units0\n",
            "100\n"
          ]
        }
      ]
    },
    {
      "cell_type": "markdown",
      "source": [
        "22-09-2023:assume that,you are working on an e-commerce platform and need to categorize items based on their prices less than rs.500 should be categorised as \"affordable\".items with a price between rs.500 and rs.1000 should be categorised as \"mid range\".items with a price greater than rs.1000 should be categorised as \"expensive\".if the price is negative .print an error message \"invalid price\""
      ],
      "metadata": {
        "id": "JCfMJwJ9qWIF"
      }
    },
    {
      "cell_type": "code",
      "source": [
        "a=int(input(\"enter the cost\"))\n",
        "if(a<500)"
      ],
      "metadata": {
        "id": "Co_YVzmKqYzp"
      },
      "execution_count": null,
      "outputs": []
    },
    {
      "cell_type": "markdown",
      "source": [
        "25-09-2023:check whether if prime number(or) not"
      ],
      "metadata": {
        "id": "d-BpHxj_vR1P"
      }
    },
    {
      "cell_type": "markdown",
      "source": [],
      "metadata": {
        "id": "_5g51lmHqUNa"
      }
    },
    {
      "cell_type": "code",
      "source": [
        "n=int(input(\"enter a number\"))\n",
        "i=1\n",
        "c=0\n",
        "while(i<n):\n",
        "    if(n%i==0):\n",
        "        c=c+1\n",
        "    i=i+1\n",
        "if(c>=2):\n",
        "    print(\"not prime number\")\n",
        "else:\n",
        "    print(\"prime number\")\n"
      ],
      "metadata": {
        "colab": {
          "base_uri": "https://localhost:8080/"
        },
        "id": "e9hDnOsN7v1s",
        "outputId": "80844ca2-86e7-4a60-82bf-991105cbe810"
      },
      "execution_count": null,
      "outputs": [
        {
          "output_type": "stream",
          "name": "stdout",
          "text": [
            "enter a number90\n",
            "not prime number\n"
          ]
        }
      ]
    },
    {
      "cell_type": "code",
      "source": [
        "a=1234\n",
        "n=int(input(\"enetr a password\"))\n",
        "while(a!=n):\n",
        "    N=int(input(\"enter a password again\"))\n",
        "print(\"password correct\")"
      ],
      "metadata": {
        "colab": {
          "base_uri": "https://localhost:8080/"
        },
        "id": "e597TzEhvXEd",
        "outputId": "c643c3b1-50f3-40fd-971e-9817fa402047"
      },
      "execution_count": null,
      "outputs": [
        {
          "output_type": "stream",
          "name": "stdout",
          "text": [
            "enetr a password1234\n",
            "password correct\n"
          ]
        }
      ]
    },
    {
      "cell_type": "markdown",
      "source": [
        "25-09-2023:write a program to print sum of n numbers"
      ],
      "metadata": {
        "id": "40sEsc4gxsdz"
      }
    },
    {
      "cell_type": "code",
      "source": [
        "n=int(input(\"enter a number\"))\n",
        "i=1\n",
        "sum=0\n",
        "while(i<n):\n",
        "  sum=sum+i\n",
        "  i=i+1\n",
        "print(sum)"
      ],
      "metadata": {
        "id": "s9Qes_OZxwvJ",
        "colab": {
          "base_uri": "https://localhost:8080/"
        },
        "outputId": "26d8ece4-3ddd-4e24-e509-52147af194f8"
      },
      "execution_count": null,
      "outputs": [
        {
          "output_type": "stream",
          "name": "stdout",
          "text": [
            "enter a number8\n",
            "28\n"
          ]
        }
      ]
    },
    {
      "cell_type": "markdown",
      "source": [
        "25-09-2023:write a program sum of even numbers 0 to n"
      ],
      "metadata": {
        "id": "Ry2md3H-3oa8"
      }
    },
    {
      "cell_type": "code",
      "source": [
        "a=int(input(\"enter a number\"))\n",
        "i=1\n",
        "sum=0\n",
        "while(i<=n):\n",
        "    if(i%2==0):\n",
        "        sum=sum+1\n",
        "    i=i+1\n",
        "print(\"sum\")\n",
        "\n"
      ],
      "metadata": {
        "id": "l80g4qO_4xtA",
        "colab": {
          "base_uri": "https://localhost:8080/"
        },
        "outputId": "6a6774fc-1545-4e5d-e3c4-081d3f75ec16"
      },
      "execution_count": null,
      "outputs": [
        {
          "output_type": "stream",
          "name": "stdout",
          "text": [
            "enter a number4\n",
            "sum\n"
          ]
        }
      ]
    },
    {
      "cell_type": "code",
      "source": [],
      "metadata": {
        "id": "KHBLdr5M3rQu"
      },
      "execution_count": null,
      "outputs": []
    },
    {
      "cell_type": "code",
      "source": [
        "N1=int(input(\"enter a value\"))\n",
        "N2=int(input(\"enter a value\"))\n",
        "a=N1+N2/2\n",
        "print(a)"
      ],
      "metadata": {
        "colab": {
          "base_uri": "https://localhost:8080/"
        },
        "id": "qSo_xbAjd9-D",
        "outputId": "cd1c3cb3-63ba-4403-bf67-b6ade1ed88c1"
      },
      "execution_count": null,
      "outputs": [
        {
          "output_type": "stream",
          "name": "stdout",
          "text": [
            "enter a value10\n",
            "enter a value9\n",
            "14.5\n"
          ]
        }
      ]
    },
    {
      "cell_type": "markdown",
      "source": [
        "25-09-2023:"
      ],
      "metadata": {
        "id": "IhGJXDHe7e7Z"
      }
    },
    {
      "cell_type": "markdown",
      "source": [],
      "metadata": {
        "id": "VQ9ZCjWOxsab"
      }
    },
    {
      "cell_type": "code",
      "source": [
        "n=int(input(\"enter a number\"))\n",
        "i=1\n",
        "sum=0\n",
        "while(i<n):\n",
        "      sum=sum+i/2\n",
        "      i=1+i\n",
        "print(sum)"
      ],
      "metadata": {
        "colab": {
          "base_uri": "https://localhost:8080/"
        },
        "id": "rhwpkm9LfaFS",
        "outputId": "ba32f1eb-b8ee-416c-f450-dd68168e486e"
      },
      "execution_count": null,
      "outputs": [
        {
          "output_type": "stream",
          "name": "stdout",
          "text": [
            "enter a number10\n",
            "22.5\n"
          ]
        }
      ]
    },
    {
      "cell_type": "code",
      "source": [
        "n=int(input(\"enter a number\"))\n",
        "i=1,sum=0\n",
        "while(i<n):\n",
        "      sum=sum+i\n",
        "      print(sum)\n",
        "      i=i+1"
      ],
      "metadata": {
        "colab": {
          "base_uri": "https://localhost:8080/",
          "height": 140
        },
        "id": "FGhYgw66hylv",
        "outputId": "d247b28c-cb20-4cd8-9086-89bfc031d805"
      },
      "execution_count": null,
      "outputs": [
        {
          "output_type": "error",
          "ename": "SyntaxError",
          "evalue": "ignored",
          "traceback": [
            "\u001b[0;36m  File \u001b[0;32m\"<ipython-input-9-df388697a0b0>\"\u001b[0;36m, line \u001b[0;32m2\u001b[0m\n\u001b[0;31m    i=1,sum=0\u001b[0m\n\u001b[0m    ^\u001b[0m\n\u001b[0;31mSyntaxError\u001b[0m\u001b[0;31m:\u001b[0m invalid syntax. Maybe you meant '==' or ':=' instead of '='?\n"
          ]
        }
      ]
    },
    {
      "cell_type": "code",
      "source": [],
      "metadata": {
        "id": "ADoWdOzjNrso"
      },
      "execution_count": null,
      "outputs": []
    }
  ]
}